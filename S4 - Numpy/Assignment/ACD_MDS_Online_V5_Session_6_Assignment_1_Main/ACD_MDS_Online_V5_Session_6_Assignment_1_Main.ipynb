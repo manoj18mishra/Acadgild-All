{
 "cells": [
  {
   "cell_type": "markdown",
   "metadata": {},
   "source": [
    "### Problem Statement 1:\n",
    "    Write a function so that the columns of the output matrix are powers of the input vector.\n",
    "    The order of the powers is determined by the increasing boolean argument. Specifically,\n",
    "    when increasing is False, the i-th output column is the input vector raised element-wise to the power of N - i - 1.\n",
    "    HINT: Such a matrix with a geometric progression in each row is named for AlexandreTheophile Vandermonde.\n",
    "    Note: Solution submitted via github must contain all the detailed steps"
   ]
  },
  {
   "cell_type": "code",
   "execution_count": 1,
   "metadata": {},
   "outputs": [],
   "source": [
    "import numpy as np\n",
    "def vander1(x, N=None, increasing=False):\n",
    "    x = np.asarray(x)\n",
    "    if x.ndim != 1:\n",
    "        raise ValueError(\"x must be a one-dimensional array or sequence.\")\n",
    "    if N is None:\n",
    "        N = len(x)\n",
    "    v=np.array([],dtype=int)\n",
    "    for i in range(N):\n",
    "        a_pow=x**i\n",
    "        if increasing:\n",
    "            v=np.append(v,a_pow)\n",
    "            #v=np.vstack([a_pow,v])\n",
    "        else:\n",
    "            v=np.append(a_pow,v)\n",
    "            #v=np.vstack([v,a_pow])\n",
    "    v=v.reshape((N,len(x))).transpose()\n",
    "    return v"
   ]
  },
  {
   "cell_type": "code",
   "execution_count": 2,
   "metadata": {},
   "outputs": [
    {
     "data": {
      "text/plain": [
       "array([[ 1,  1,  1],\n",
       "       [ 4,  2,  1],\n",
       "       [ 9,  3,  1],\n",
       "       [25,  5,  1]])"
      ]
     },
     "execution_count": 2,
     "metadata": {},
     "output_type": "execute_result"
    }
   ],
   "source": [
    "x=[1,2,3,5]\n",
    "N=3\n",
    "vander1(x,N)"
   ]
  },
  {
   "cell_type": "code",
   "execution_count": null,
   "metadata": {},
   "outputs": [],
   "source": []
  }
 ],
 "metadata": {
  "kernelspec": {
   "display_name": "Python 3",
   "language": "python",
   "name": "python3"
  },
  "language_info": {
   "codemirror_mode": {
    "name": "ipython",
    "version": 3
   },
   "file_extension": ".py",
   "mimetype": "text/x-python",
   "name": "python",
   "nbconvert_exporter": "python",
   "pygments_lexer": "ipython3",
   "version": "3.6.5"
  }
 },
 "nbformat": 4,
 "nbformat_minor": 2
}
