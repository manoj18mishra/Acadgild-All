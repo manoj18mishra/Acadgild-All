{
 "cells": [
  {
   "cell_type": "code",
   "execution_count": 1,
   "metadata": {},
   "outputs": [],
   "source": [
    "import numpy as np\n",
    "import pandas as pd\n",
    "import matplotlib.pyplot as plt\n",
    "import seaborn as sns\n",
    "\n",
    "%matplotlib inline\n",
    "sns.set_style('whitegrid')"
   ]
  },
  {
   "cell_type": "code",
   "execution_count": 2,
   "metadata": {},
   "outputs": [],
   "source": [
    "autos = pd.read_csv('https://archive.ics.uci.edu/ml/machine-learning-databases/autos/imports-85.data', header=-1)\n",
    "\n",
    "autos.columns = ['symboling','normalized-losses','make','fuel-type','aspiration',\n",
    "             'num-of-doors','body-style','drive-wheels','engine-location','wheel-base',\n",
    "             'length','width','height','curb-weight','engine-type','num-of-cylinders',\n",
    "             'engine-size','fuel-system','bore','stroke','compression-ratio',\n",
    "             'horsepower','peak-rpm','city-mpg','highway-mpg','price']"
   ]
  },
  {
   "cell_type": "code",
   "execution_count": 3,
   "metadata": {},
   "outputs": [],
   "source": [
    "#columns = pd.read_table('imports-85.names.txt')\n",
    "#columns"
   ]
  },
  {
   "cell_type": "code",
   "execution_count": 4,
   "metadata": {},
   "outputs": [
    {
     "data": {
      "text/html": [
       "<div>\n",
       "<style scoped>\n",
       "    .dataframe tbody tr th:only-of-type {\n",
       "        vertical-align: middle;\n",
       "    }\n",
       "\n",
       "    .dataframe tbody tr th {\n",
       "        vertical-align: top;\n",
       "    }\n",
       "\n",
       "    .dataframe thead th {\n",
       "        text-align: right;\n",
       "    }\n",
       "</style>\n",
       "<table border=\"1\" class=\"dataframe\">\n",
       "  <thead>\n",
       "    <tr style=\"text-align: right;\">\n",
       "      <th></th>\n",
       "      <th>symboling</th>\n",
       "      <th>normalized-losses</th>\n",
       "      <th>make</th>\n",
       "      <th>fuel-type</th>\n",
       "      <th>aspiration</th>\n",
       "      <th>num-of-doors</th>\n",
       "      <th>body-style</th>\n",
       "      <th>drive-wheels</th>\n",
       "      <th>engine-location</th>\n",
       "      <th>wheel-base</th>\n",
       "      <th>...</th>\n",
       "      <th>engine-size</th>\n",
       "      <th>fuel-system</th>\n",
       "      <th>bore</th>\n",
       "      <th>stroke</th>\n",
       "      <th>compression-ratio</th>\n",
       "      <th>horsepower</th>\n",
       "      <th>peak-rpm</th>\n",
       "      <th>city-mpg</th>\n",
       "      <th>highway-mpg</th>\n",
       "      <th>price</th>\n",
       "    </tr>\n",
       "  </thead>\n",
       "  <tbody>\n",
       "    <tr>\n",
       "      <th>0</th>\n",
       "      <td>3</td>\n",
       "      <td>?</td>\n",
       "      <td>alfa-romero</td>\n",
       "      <td>gas</td>\n",
       "      <td>std</td>\n",
       "      <td>two</td>\n",
       "      <td>convertible</td>\n",
       "      <td>rwd</td>\n",
       "      <td>front</td>\n",
       "      <td>88.6</td>\n",
       "      <td>...</td>\n",
       "      <td>130</td>\n",
       "      <td>mpfi</td>\n",
       "      <td>3.47</td>\n",
       "      <td>2.68</td>\n",
       "      <td>9.0</td>\n",
       "      <td>111</td>\n",
       "      <td>5000</td>\n",
       "      <td>21</td>\n",
       "      <td>27</td>\n",
       "      <td>13495</td>\n",
       "    </tr>\n",
       "    <tr>\n",
       "      <th>1</th>\n",
       "      <td>3</td>\n",
       "      <td>?</td>\n",
       "      <td>alfa-romero</td>\n",
       "      <td>gas</td>\n",
       "      <td>std</td>\n",
       "      <td>two</td>\n",
       "      <td>convertible</td>\n",
       "      <td>rwd</td>\n",
       "      <td>front</td>\n",
       "      <td>88.6</td>\n",
       "      <td>...</td>\n",
       "      <td>130</td>\n",
       "      <td>mpfi</td>\n",
       "      <td>3.47</td>\n",
       "      <td>2.68</td>\n",
       "      <td>9.0</td>\n",
       "      <td>111</td>\n",
       "      <td>5000</td>\n",
       "      <td>21</td>\n",
       "      <td>27</td>\n",
       "      <td>16500</td>\n",
       "    </tr>\n",
       "    <tr>\n",
       "      <th>2</th>\n",
       "      <td>1</td>\n",
       "      <td>?</td>\n",
       "      <td>alfa-romero</td>\n",
       "      <td>gas</td>\n",
       "      <td>std</td>\n",
       "      <td>two</td>\n",
       "      <td>hatchback</td>\n",
       "      <td>rwd</td>\n",
       "      <td>front</td>\n",
       "      <td>94.5</td>\n",
       "      <td>...</td>\n",
       "      <td>152</td>\n",
       "      <td>mpfi</td>\n",
       "      <td>2.68</td>\n",
       "      <td>3.47</td>\n",
       "      <td>9.0</td>\n",
       "      <td>154</td>\n",
       "      <td>5000</td>\n",
       "      <td>19</td>\n",
       "      <td>26</td>\n",
       "      <td>16500</td>\n",
       "    </tr>\n",
       "    <tr>\n",
       "      <th>3</th>\n",
       "      <td>2</td>\n",
       "      <td>164</td>\n",
       "      <td>audi</td>\n",
       "      <td>gas</td>\n",
       "      <td>std</td>\n",
       "      <td>four</td>\n",
       "      <td>sedan</td>\n",
       "      <td>fwd</td>\n",
       "      <td>front</td>\n",
       "      <td>99.8</td>\n",
       "      <td>...</td>\n",
       "      <td>109</td>\n",
       "      <td>mpfi</td>\n",
       "      <td>3.19</td>\n",
       "      <td>3.40</td>\n",
       "      <td>10.0</td>\n",
       "      <td>102</td>\n",
       "      <td>5500</td>\n",
       "      <td>24</td>\n",
       "      <td>30</td>\n",
       "      <td>13950</td>\n",
       "    </tr>\n",
       "    <tr>\n",
       "      <th>4</th>\n",
       "      <td>2</td>\n",
       "      <td>164</td>\n",
       "      <td>audi</td>\n",
       "      <td>gas</td>\n",
       "      <td>std</td>\n",
       "      <td>four</td>\n",
       "      <td>sedan</td>\n",
       "      <td>4wd</td>\n",
       "      <td>front</td>\n",
       "      <td>99.4</td>\n",
       "      <td>...</td>\n",
       "      <td>136</td>\n",
       "      <td>mpfi</td>\n",
       "      <td>3.19</td>\n",
       "      <td>3.40</td>\n",
       "      <td>8.0</td>\n",
       "      <td>115</td>\n",
       "      <td>5500</td>\n",
       "      <td>18</td>\n",
       "      <td>22</td>\n",
       "      <td>17450</td>\n",
       "    </tr>\n",
       "  </tbody>\n",
       "</table>\n",
       "<p>5 rows × 26 columns</p>\n",
       "</div>"
      ],
      "text/plain": [
       "   symboling normalized-losses         make fuel-type aspiration num-of-doors  \\\n",
       "0          3                 ?  alfa-romero       gas        std          two   \n",
       "1          3                 ?  alfa-romero       gas        std          two   \n",
       "2          1                 ?  alfa-romero       gas        std          two   \n",
       "3          2               164         audi       gas        std         four   \n",
       "4          2               164         audi       gas        std         four   \n",
       "\n",
       "    body-style drive-wheels engine-location  wheel-base  ...    engine-size  \\\n",
       "0  convertible          rwd           front        88.6  ...            130   \n",
       "1  convertible          rwd           front        88.6  ...            130   \n",
       "2    hatchback          rwd           front        94.5  ...            152   \n",
       "3        sedan          fwd           front        99.8  ...            109   \n",
       "4        sedan          4wd           front        99.4  ...            136   \n",
       "\n",
       "   fuel-system  bore  stroke compression-ratio horsepower  peak-rpm city-mpg  \\\n",
       "0         mpfi  3.47    2.68               9.0        111      5000       21   \n",
       "1         mpfi  3.47    2.68               9.0        111      5000       21   \n",
       "2         mpfi  2.68    3.47               9.0        154      5000       19   \n",
       "3         mpfi  3.19    3.40              10.0        102      5500       24   \n",
       "4         mpfi  3.19    3.40               8.0        115      5500       18   \n",
       "\n",
       "  highway-mpg  price  \n",
       "0          27  13495  \n",
       "1          27  16500  \n",
       "2          26  16500  \n",
       "3          30  13950  \n",
       "4          22  17450  \n",
       "\n",
       "[5 rows x 26 columns]"
      ]
     },
     "execution_count": 4,
     "metadata": {},
     "output_type": "execute_result"
    }
   ],
   "source": [
    "autos.head()"
   ]
  },
  {
   "cell_type": "code",
   "execution_count": 5,
   "metadata": {},
   "outputs": [
    {
     "data": {
      "text/html": [
       "<div>\n",
       "<style scoped>\n",
       "    .dataframe tbody tr th:only-of-type {\n",
       "        vertical-align: middle;\n",
       "    }\n",
       "\n",
       "    .dataframe tbody tr th {\n",
       "        vertical-align: top;\n",
       "    }\n",
       "\n",
       "    .dataframe thead th {\n",
       "        text-align: right;\n",
       "    }\n",
       "</style>\n",
       "<table border=\"1\" class=\"dataframe\">\n",
       "  <thead>\n",
       "    <tr style=\"text-align: right;\">\n",
       "      <th></th>\n",
       "      <th>symboling</th>\n",
       "      <th>wheel-base</th>\n",
       "      <th>length</th>\n",
       "      <th>width</th>\n",
       "      <th>height</th>\n",
       "      <th>curb-weight</th>\n",
       "      <th>engine-size</th>\n",
       "      <th>compression-ratio</th>\n",
       "      <th>city-mpg</th>\n",
       "      <th>highway-mpg</th>\n",
       "    </tr>\n",
       "  </thead>\n",
       "  <tbody>\n",
       "    <tr>\n",
       "      <th>count</th>\n",
       "      <td>205.000000</td>\n",
       "      <td>205.000000</td>\n",
       "      <td>205.000000</td>\n",
       "      <td>205.000000</td>\n",
       "      <td>205.000000</td>\n",
       "      <td>205.000000</td>\n",
       "      <td>205.000000</td>\n",
       "      <td>205.000000</td>\n",
       "      <td>205.000000</td>\n",
       "      <td>205.000000</td>\n",
       "    </tr>\n",
       "    <tr>\n",
       "      <th>mean</th>\n",
       "      <td>0.834146</td>\n",
       "      <td>98.756585</td>\n",
       "      <td>174.049268</td>\n",
       "      <td>65.907805</td>\n",
       "      <td>53.724878</td>\n",
       "      <td>2555.565854</td>\n",
       "      <td>126.907317</td>\n",
       "      <td>10.142537</td>\n",
       "      <td>25.219512</td>\n",
       "      <td>30.751220</td>\n",
       "    </tr>\n",
       "    <tr>\n",
       "      <th>std</th>\n",
       "      <td>1.245307</td>\n",
       "      <td>6.021776</td>\n",
       "      <td>12.337289</td>\n",
       "      <td>2.145204</td>\n",
       "      <td>2.443522</td>\n",
       "      <td>520.680204</td>\n",
       "      <td>41.642693</td>\n",
       "      <td>3.972040</td>\n",
       "      <td>6.542142</td>\n",
       "      <td>6.886443</td>\n",
       "    </tr>\n",
       "    <tr>\n",
       "      <th>min</th>\n",
       "      <td>-2.000000</td>\n",
       "      <td>86.600000</td>\n",
       "      <td>141.100000</td>\n",
       "      <td>60.300000</td>\n",
       "      <td>47.800000</td>\n",
       "      <td>1488.000000</td>\n",
       "      <td>61.000000</td>\n",
       "      <td>7.000000</td>\n",
       "      <td>13.000000</td>\n",
       "      <td>16.000000</td>\n",
       "    </tr>\n",
       "    <tr>\n",
       "      <th>25%</th>\n",
       "      <td>0.000000</td>\n",
       "      <td>94.500000</td>\n",
       "      <td>166.300000</td>\n",
       "      <td>64.100000</td>\n",
       "      <td>52.000000</td>\n",
       "      <td>2145.000000</td>\n",
       "      <td>97.000000</td>\n",
       "      <td>8.600000</td>\n",
       "      <td>19.000000</td>\n",
       "      <td>25.000000</td>\n",
       "    </tr>\n",
       "    <tr>\n",
       "      <th>50%</th>\n",
       "      <td>1.000000</td>\n",
       "      <td>97.000000</td>\n",
       "      <td>173.200000</td>\n",
       "      <td>65.500000</td>\n",
       "      <td>54.100000</td>\n",
       "      <td>2414.000000</td>\n",
       "      <td>120.000000</td>\n",
       "      <td>9.000000</td>\n",
       "      <td>24.000000</td>\n",
       "      <td>30.000000</td>\n",
       "    </tr>\n",
       "    <tr>\n",
       "      <th>75%</th>\n",
       "      <td>2.000000</td>\n",
       "      <td>102.400000</td>\n",
       "      <td>183.100000</td>\n",
       "      <td>66.900000</td>\n",
       "      <td>55.500000</td>\n",
       "      <td>2935.000000</td>\n",
       "      <td>141.000000</td>\n",
       "      <td>9.400000</td>\n",
       "      <td>30.000000</td>\n",
       "      <td>34.000000</td>\n",
       "    </tr>\n",
       "    <tr>\n",
       "      <th>max</th>\n",
       "      <td>3.000000</td>\n",
       "      <td>120.900000</td>\n",
       "      <td>208.100000</td>\n",
       "      <td>72.300000</td>\n",
       "      <td>59.800000</td>\n",
       "      <td>4066.000000</td>\n",
       "      <td>326.000000</td>\n",
       "      <td>23.000000</td>\n",
       "      <td>49.000000</td>\n",
       "      <td>54.000000</td>\n",
       "    </tr>\n",
       "  </tbody>\n",
       "</table>\n",
       "</div>"
      ],
      "text/plain": [
       "        symboling  wheel-base      length       width      height  \\\n",
       "count  205.000000  205.000000  205.000000  205.000000  205.000000   \n",
       "mean     0.834146   98.756585  174.049268   65.907805   53.724878   \n",
       "std      1.245307    6.021776   12.337289    2.145204    2.443522   \n",
       "min     -2.000000   86.600000  141.100000   60.300000   47.800000   \n",
       "25%      0.000000   94.500000  166.300000   64.100000   52.000000   \n",
       "50%      1.000000   97.000000  173.200000   65.500000   54.100000   \n",
       "75%      2.000000  102.400000  183.100000   66.900000   55.500000   \n",
       "max      3.000000  120.900000  208.100000   72.300000   59.800000   \n",
       "\n",
       "       curb-weight  engine-size  compression-ratio    city-mpg  highway-mpg  \n",
       "count   205.000000   205.000000         205.000000  205.000000   205.000000  \n",
       "mean   2555.565854   126.907317          10.142537   25.219512    30.751220  \n",
       "std     520.680204    41.642693           3.972040    6.542142     6.886443  \n",
       "min    1488.000000    61.000000           7.000000   13.000000    16.000000  \n",
       "25%    2145.000000    97.000000           8.600000   19.000000    25.000000  \n",
       "50%    2414.000000   120.000000           9.000000   24.000000    30.000000  \n",
       "75%    2935.000000   141.000000           9.400000   30.000000    34.000000  \n",
       "max    4066.000000   326.000000          23.000000   49.000000    54.000000  "
      ]
     },
     "execution_count": 5,
     "metadata": {},
     "output_type": "execute_result"
    }
   ],
   "source": [
    "autos.describe()"
   ]
  },
  {
   "cell_type": "code",
   "execution_count": 6,
   "metadata": {},
   "outputs": [],
   "source": [
    "autos.replace('?', np.nan, inplace=True)\n",
    "\n",
    "autos['normalized-losses'] = pd.to_numeric(autos['normalized-losses'])\n"
   ]
  },
  {
   "cell_type": "code",
   "execution_count": 7,
   "metadata": {},
   "outputs": [
    {
     "name": "stdout",
     "output_type": "stream",
     "text": [
      "<class 'pandas.core.frame.DataFrame'>\n",
      "RangeIndex: 205 entries, 0 to 204\n",
      "Data columns (total 26 columns):\n",
      "symboling            205 non-null int64\n",
      "normalized-losses    164 non-null float64\n",
      "make                 205 non-null object\n",
      "fuel-type            205 non-null object\n",
      "aspiration           205 non-null object\n",
      "num-of-doors         203 non-null object\n",
      "body-style           205 non-null object\n",
      "drive-wheels         205 non-null object\n",
      "engine-location      205 non-null object\n",
      "wheel-base           205 non-null float64\n",
      "length               205 non-null float64\n",
      "width                205 non-null float64\n",
      "height               205 non-null float64\n",
      "curb-weight          205 non-null int64\n",
      "engine-type          205 non-null object\n",
      "num-of-cylinders     205 non-null object\n",
      "engine-size          205 non-null int64\n",
      "fuel-system          205 non-null object\n",
      "bore                 201 non-null object\n",
      "stroke               201 non-null object\n",
      "compression-ratio    205 non-null float64\n",
      "horsepower           203 non-null object\n",
      "peak-rpm             203 non-null object\n",
      "city-mpg             205 non-null int64\n",
      "highway-mpg          205 non-null int64\n",
      "price                201 non-null object\n",
      "dtypes: float64(6), int64(5), object(15)\n",
      "memory usage: 41.7+ KB\n"
     ]
    }
   ],
   "source": [
    "autos.info()"
   ]
  },
  {
   "cell_type": "code",
   "execution_count": 8,
   "metadata": {},
   "outputs": [
    {
     "name": "stderr",
     "output_type": "stream",
     "text": [
      "C:\\ProgramData\\Anaconda3\\lib\\site-packages\\scipy\\stats\\stats.py:1713: FutureWarning: Using a non-tuple sequence for multidimensional indexing is deprecated; use `arr[tuple(seq)]` instead of `arr[seq]`. In the future this will be interpreted as an array index, `arr[np.array(seq)]`, which will result either in an error or a different result.\n",
      "  return np.add.reduce(sorted[indexer] * weights, axis=axis) / sumval\n"
     ]
    },
    {
     "data": {
      "text/plain": [
       "<matplotlib.axes._subplots.AxesSubplot at 0x299317cdb70>"
      ]
     },
     "execution_count": 8,
     "metadata": {},
     "output_type": "execute_result"
    },
    {
     "data": {
      "image/png": "[encoded data removed]",
      "text/plain": [
       "<Figure size 432x288 with 1 Axes>"
      ]
     },
     "metadata": {},
     "output_type": "display_data"
    }
   ],
   "source": [
    "sns.distplot(autos['normalized-losses'].dropna())"
   ]
  },
  {
   "cell_type": "code",
   "execution_count": 9,
   "metadata": {},
   "outputs": [
    {
     "data": {
      "text/plain": [
       "115.0"
      ]
     },
     "execution_count": 9,
     "metadata": {},
     "output_type": "execute_result"
    }
   ],
   "source": [
    "normalized_losses_median = autos['normalized-losses'].dropna().median()\n",
    "normalized_losses_median"
   ]
  },
  {
   "cell_type": "code",
   "execution_count": 10,
   "metadata": {},
   "outputs": [],
   "source": [
    "autos['normalized-losses'].fillna(normalized_losses_median, inplace=True)\n",
    "#autos['normalized-losses']"
   ]
  },
  {
   "cell_type": "code",
   "execution_count": 11,
   "metadata": {},
   "outputs": [],
   "source": [
    "#autos.groupby(['make','fuel-type', ])"
   ]
  },
  {
   "cell_type": "code",
   "execution_count": 12,
   "metadata": {},
   "outputs": [
    {
     "data": {
      "text/html": [
       "<div>\n",
       "<style scoped>\n",
       "    .dataframe tbody tr th:only-of-type {\n",
       "        vertical-align: middle;\n",
       "    }\n",
       "\n",
       "    .dataframe tbody tr th {\n",
       "        vertical-align: top;\n",
       "    }\n",
       "\n",
       "    .dataframe thead th {\n",
       "        text-align: right;\n",
       "    }\n",
       "</style>\n",
       "<table border=\"1\" class=\"dataframe\">\n",
       "  <thead>\n",
       "    <tr style=\"text-align: right;\">\n",
       "      <th></th>\n",
       "      <th>make</th>\n",
       "      <th>fuel-type</th>\n",
       "      <th>aspiration</th>\n",
       "      <th>num-of-doors</th>\n",
       "      <th>body-style</th>\n",
       "      <th>drive-wheels</th>\n",
       "      <th>engine-location</th>\n",
       "      <th>engine-type</th>\n",
       "      <th>num-of-cylinders</th>\n",
       "      <th>fuel-system</th>\n",
       "      <th>bore</th>\n",
       "      <th>stroke</th>\n",
       "      <th>horsepower</th>\n",
       "      <th>peak-rpm</th>\n",
       "      <th>price</th>\n",
       "    </tr>\n",
       "  </thead>\n",
       "  <tbody>\n",
       "    <tr>\n",
       "      <th>count</th>\n",
       "      <td>205</td>\n",
       "      <td>205</td>\n",
       "      <td>205</td>\n",
       "      <td>203</td>\n",
       "      <td>205</td>\n",
       "      <td>205</td>\n",
       "      <td>205</td>\n",
       "      <td>205</td>\n",
       "      <td>205</td>\n",
       "      <td>205</td>\n",
       "      <td>201</td>\n",
       "      <td>201</td>\n",
       "      <td>203</td>\n",
       "      <td>203</td>\n",
       "      <td>201</td>\n",
       "    </tr>\n",
       "    <tr>\n",
       "      <th>unique</th>\n",
       "      <td>22</td>\n",
       "      <td>2</td>\n",
       "      <td>2</td>\n",
       "      <td>2</td>\n",
       "      <td>5</td>\n",
       "      <td>3</td>\n",
       "      <td>2</td>\n",
       "      <td>7</td>\n",
       "      <td>7</td>\n",
       "      <td>8</td>\n",
       "      <td>38</td>\n",
       "      <td>36</td>\n",
       "      <td>59</td>\n",
       "      <td>23</td>\n",
       "      <td>186</td>\n",
       "    </tr>\n",
       "    <tr>\n",
       "      <th>top</th>\n",
       "      <td>toyota</td>\n",
       "      <td>gas</td>\n",
       "      <td>std</td>\n",
       "      <td>four</td>\n",
       "      <td>sedan</td>\n",
       "      <td>fwd</td>\n",
       "      <td>front</td>\n",
       "      <td>ohc</td>\n",
       "      <td>four</td>\n",
       "      <td>mpfi</td>\n",
       "      <td>3.62</td>\n",
       "      <td>3.40</td>\n",
       "      <td>68</td>\n",
       "      <td>5500</td>\n",
       "      <td>7957</td>\n",
       "    </tr>\n",
       "    <tr>\n",
       "      <th>freq</th>\n",
       "      <td>32</td>\n",
       "      <td>185</td>\n",
       "      <td>168</td>\n",
       "      <td>114</td>\n",
       "      <td>96</td>\n",
       "      <td>120</td>\n",
       "      <td>202</td>\n",
       "      <td>148</td>\n",
       "      <td>159</td>\n",
       "      <td>94</td>\n",
       "      <td>23</td>\n",
       "      <td>20</td>\n",
       "      <td>19</td>\n",
       "      <td>37</td>\n",
       "      <td>2</td>\n",
       "    </tr>\n",
       "  </tbody>\n",
       "</table>\n",
       "</div>"
      ],
      "text/plain": [
       "          make fuel-type aspiration num-of-doors body-style drive-wheels  \\\n",
       "count      205       205        205          203        205          205   \n",
       "unique      22         2          2            2          5            3   \n",
       "top     toyota       gas        std         four      sedan          fwd   \n",
       "freq        32       185        168          114         96          120   \n",
       "\n",
       "       engine-location engine-type num-of-cylinders fuel-system  bore stroke  \\\n",
       "count              205         205              205         205   201    201   \n",
       "unique               2           7                7           8    38     36   \n",
       "top              front         ohc             four        mpfi  3.62   3.40   \n",
       "freq               202         148              159          94    23     20   \n",
       "\n",
       "       horsepower peak-rpm price  \n",
       "count         203      203   201  \n",
       "unique         59       23   186  \n",
       "top            68     5500  7957  \n",
       "freq           19       37     2  "
      ]
     },
     "execution_count": 12,
     "metadata": {},
     "output_type": "execute_result"
    }
   ],
   "source": [
    "autos.describe(include='object')"
   ]
  },
  {
   "cell_type": "code",
   "execution_count": 13,
   "metadata": {},
   "outputs": [],
   "source": [
    "autos.bore = pd.to_numeric(autos.bore)\n",
    "autos.stroke = pd.to_numeric(autos.stroke)\n",
    "autos.horsepower = pd.to_numeric(autos.horsepower)\n",
    "autos['peak-rpm'] = pd.to_numeric(autos['peak-rpm'])\n",
    "autos.price = pd.to_numeric(autos.price)"
   ]
  },
  {
   "cell_type": "code",
   "execution_count": 14,
   "metadata": {},
   "outputs": [
    {
     "name": "stderr",
     "output_type": "stream",
     "text": [
      "C:\\ProgramData\\Anaconda3\\lib\\site-packages\\scipy\\stats\\stats.py:1713: FutureWarning: Using a non-tuple sequence for multidimensional indexing is deprecated; use `arr[tuple(seq)]` instead of `arr[seq]`. In the future this will be interpreted as an array index, `arr[np.array(seq)]`, which will result either in an error or a different result.\n",
      "  return np.add.reduce(sorted[indexer] * weights, axis=axis) / sumval\n"
     ]
    },
    {
     "data": {
      "text/plain": [
       "<matplotlib.axes._subplots.AxesSubplot at 0x299317cdb38>"
      ]
     },
     "execution_count": 14,
     "metadata": {},
     "output_type": "execute_result"
    },
    {
     "data": {
      "image/png": "[encoded data removed]",
      "text/plain": [
       "<Figure size 432x288 with 1 Axes>"
      ]
     },
     "metadata": {},
     "output_type": "display_data"
    }
   ],
   "source": [
    "sns.distplot(autos.bore.dropna())"
   ]
  },
  {
   "cell_type": "code",
   "execution_count": 15,
   "metadata": {},
   "outputs": [],
   "source": [
    "bore_mean = autos['bore'].dropna().mean()\n",
    "bore_mean \n",
    "autos['bore'].fillna(bore_mean, inplace=True)"
   ]
  },
  {
   "cell_type": "code",
   "execution_count": 16,
   "metadata": {},
   "outputs": [
    {
     "name": "stderr",
     "output_type": "stream",
     "text": [
      "C:\\ProgramData\\Anaconda3\\lib\\site-packages\\scipy\\stats\\stats.py:1713: FutureWarning: Using a non-tuple sequence for multidimensional indexing is deprecated; use `arr[tuple(seq)]` instead of `arr[seq]`. In the future this will be interpreted as an array index, `arr[np.array(seq)]`, which will result either in an error or a different result.\n",
      "  return np.add.reduce(sorted[indexer] * weights, axis=axis) / sumval\n"
     ]
    },
    {
     "data": {
      "text/plain": [
       "<matplotlib.axes._subplots.AxesSubplot at 0x29931ba9080>"
      ]
     },
     "execution_count": 16,
     "metadata": {},
     "output_type": "execute_result"
    },
    {
     "data": {
      "image/png": "[encoded data removed]",
      "text/plain": [
       "<Figure size 432x288 with 1 Axes>"
      ]
     },
     "metadata": {},
     "output_type": "display_data"
    }
   ],
   "source": [
    "sns.distplot(autos.stroke.dropna())"
   ]
  },
  {
   "cell_type": "code",
   "execution_count": 17,
   "metadata": {},
   "outputs": [
    {
     "data": {
      "text/plain": [
       "symboling            0.211072\n",
       "normalized-losses    0.976114\n",
       "wheel-base           1.050214\n",
       "length               0.155954\n",
       "width                0.904003\n",
       "height               0.063123\n",
       "curb-weight          0.681398\n",
       "engine-size          1.947655\n",
       "bore                 0.020211\n",
       "stroke              -0.683122\n",
       "compression-ratio    2.610862\n",
       "horsepower           1.391029\n",
       "peak-rpm             0.073237\n",
       "city-mpg             0.663704\n",
       "highway-mpg          0.539997\n",
       "price                1.809675\n",
       "dtype: float64"
      ]
     },
     "execution_count": 17,
     "metadata": {},
     "output_type": "execute_result"
    }
   ],
   "source": [
    "autos.skew()"
   ]
  },
  {
   "cell_type": "code",
   "execution_count": 18,
   "metadata": {},
   "outputs": [],
   "source": [
    "stroke_median = autos['stroke'].dropna().median()\n",
    "stroke_median \n",
    "autos['stroke'].fillna(stroke_median, inplace=True)"
   ]
  },
  {
   "cell_type": "code",
   "execution_count": 19,
   "metadata": {},
   "outputs": [
    {
     "name": "stderr",
     "output_type": "stream",
     "text": [
      "C:\\ProgramData\\Anaconda3\\lib\\site-packages\\scipy\\stats\\stats.py:1713: FutureWarning: Using a non-tuple sequence for multidimensional indexing is deprecated; use `arr[tuple(seq)]` instead of `arr[seq]`. In the future this will be interpreted as an array index, `arr[np.array(seq)]`, which will result either in an error or a different result.\n",
      "  return np.add.reduce(sorted[indexer] * weights, axis=axis) / sumval\n"
     ]
    },
    {
     "data": {
      "text/plain": [
       "<matplotlib.axes._subplots.AxesSubplot at 0x29931c5c390>"
      ]
     },
     "execution_count": 19,
     "metadata": {},
     "output_type": "execute_result"
    },
    {
     "data": {
      "image/png": "[encoded data removed]",
      "text/plain": [
       "<Figure size 432x288 with 1 Axes>"
      ]
     },
     "metadata": {},
     "output_type": "display_data"
    }
   ],
   "source": [
    "sns.distplot(autos.horsepower.dropna())"
   ]
  },
  {
   "cell_type": "code",
   "execution_count": 20,
   "metadata": {},
   "outputs": [],
   "source": [
    "horsepower_median = autos['horsepower'].dropna().median()\n",
    "horsepower_median \n",
    "autos['horsepower'].fillna(horsepower_median, inplace=True)"
   ]
  },
  {
   "cell_type": "code",
   "execution_count": 21,
   "metadata": {},
   "outputs": [
    {
     "name": "stderr",
     "output_type": "stream",
     "text": [
      "C:\\ProgramData\\Anaconda3\\lib\\site-packages\\scipy\\stats\\stats.py:1713: FutureWarning: Using a non-tuple sequence for multidimensional indexing is deprecated; use `arr[tuple(seq)]` instead of `arr[seq]`. In the future this will be interpreted as an array index, `arr[np.array(seq)]`, which will result either in an error or a different result.\n",
      "  return np.add.reduce(sorted[indexer] * weights, axis=axis) / sumval\n"
     ]
    },
    {
     "data": {
      "text/plain": [
       "<matplotlib.axes._subplots.AxesSubplot at 0x29931c07e48>"
      ]
     },
     "execution_count": 21,
     "metadata": {},
     "output_type": "execute_result"
    },
    {
     "data": {
      "image/png": "[encoded data removed]",
      "text/plain": [
       "<Figure size 432x288 with 1 Axes>"
      ]
     },
     "metadata": {},
     "output_type": "display_data"
    }
   ],
   "source": [
    "sns.distplot(autos.price.dropna())"
   ]
  },
  {
   "cell_type": "code",
   "execution_count": 22,
   "metadata": {},
   "outputs": [],
   "source": [
    "price_median = autos['price'].dropna().median()\n",
    "price_median \n",
    "autos['price'].fillna(price_median, inplace=True)"
   ]
  },
  {
   "cell_type": "code",
   "execution_count": 23,
   "metadata": {},
   "outputs": [
    {
     "name": "stderr",
     "output_type": "stream",
     "text": [
      "C:\\ProgramData\\Anaconda3\\lib\\site-packages\\scipy\\stats\\stats.py:1713: FutureWarning: Using a non-tuple sequence for multidimensional indexing is deprecated; use `arr[tuple(seq)]` instead of `arr[seq]`. In the future this will be interpreted as an array index, `arr[np.array(seq)]`, which will result either in an error or a different result.\n",
      "  return np.add.reduce(sorted[indexer] * weights, axis=axis) / sumval\n"
     ]
    },
    {
     "data": {
      "text/plain": [
       "<matplotlib.axes._subplots.AxesSubplot at 0x29931d60978>"
      ]
     },
     "execution_count": 23,
     "metadata": {},
     "output_type": "execute_result"
    },
    {
     "data": {
      "image/png": "[encoded data removed]",
      "text/plain": [
       "<Figure size 432x288 with 1 Axes>"
      ]
     },
     "metadata": {},
     "output_type": "display_data"
    }
   ],
   "source": [
    "sns.distplot(autos['peak-rpm'].dropna())"
   ]
  },
  {
   "cell_type": "code",
   "execution_count": 24,
   "metadata": {},
   "outputs": [
    {
     "data": {
      "text/html": [
       "<div>\n",
       "<style scoped>\n",
       "    .dataframe tbody tr th:only-of-type {\n",
       "        vertical-align: middle;\n",
       "    }\n",
       "\n",
       "    .dataframe tbody tr th {\n",
       "        vertical-align: top;\n",
       "    }\n",
       "\n",
       "    .dataframe thead th {\n",
       "        text-align: right;\n",
       "    }\n",
       "</style>\n",
       "<table border=\"1\" class=\"dataframe\">\n",
       "  <thead>\n",
       "    <tr style=\"text-align: right;\">\n",
       "      <th></th>\n",
       "      <th>make</th>\n",
       "      <th>fuel-type</th>\n",
       "      <th>aspiration</th>\n",
       "      <th>num-of-doors</th>\n",
       "      <th>body-style</th>\n",
       "      <th>drive-wheels</th>\n",
       "      <th>engine-location</th>\n",
       "      <th>engine-type</th>\n",
       "      <th>num-of-cylinders</th>\n",
       "      <th>fuel-system</th>\n",
       "    </tr>\n",
       "  </thead>\n",
       "  <tbody>\n",
       "    <tr>\n",
       "      <th>count</th>\n",
       "      <td>205</td>\n",
       "      <td>205</td>\n",
       "      <td>205</td>\n",
       "      <td>203</td>\n",
       "      <td>205</td>\n",
       "      <td>205</td>\n",
       "      <td>205</td>\n",
       "      <td>205</td>\n",
       "      <td>205</td>\n",
       "      <td>205</td>\n",
       "    </tr>\n",
       "    <tr>\n",
       "      <th>unique</th>\n",
       "      <td>22</td>\n",
       "      <td>2</td>\n",
       "      <td>2</td>\n",
       "      <td>2</td>\n",
       "      <td>5</td>\n",
       "      <td>3</td>\n",
       "      <td>2</td>\n",
       "      <td>7</td>\n",
       "      <td>7</td>\n",
       "      <td>8</td>\n",
       "    </tr>\n",
       "    <tr>\n",
       "      <th>top</th>\n",
       "      <td>toyota</td>\n",
       "      <td>gas</td>\n",
       "      <td>std</td>\n",
       "      <td>four</td>\n",
       "      <td>sedan</td>\n",
       "      <td>fwd</td>\n",
       "      <td>front</td>\n",
       "      <td>ohc</td>\n",
       "      <td>four</td>\n",
       "      <td>mpfi</td>\n",
       "    </tr>\n",
       "    <tr>\n",
       "      <th>freq</th>\n",
       "      <td>32</td>\n",
       "      <td>185</td>\n",
       "      <td>168</td>\n",
       "      <td>114</td>\n",
       "      <td>96</td>\n",
       "      <td>120</td>\n",
       "      <td>202</td>\n",
       "      <td>148</td>\n",
       "      <td>159</td>\n",
       "      <td>94</td>\n",
       "    </tr>\n",
       "  </tbody>\n",
       "</table>\n",
       "</div>"
      ],
      "text/plain": [
       "          make fuel-type aspiration num-of-doors body-style drive-wheels  \\\n",
       "count      205       205        205          203        205          205   \n",
       "unique      22         2          2            2          5            3   \n",
       "top     toyota       gas        std         four      sedan          fwd   \n",
       "freq        32       185        168          114         96          120   \n",
       "\n",
       "       engine-location engine-type num-of-cylinders fuel-system  \n",
       "count              205         205              205         205  \n",
       "unique               2           7                7           8  \n",
       "top              front         ohc             four        mpfi  \n",
       "freq               202         148              159          94  "
      ]
     },
     "execution_count": 24,
     "metadata": {},
     "output_type": "execute_result"
    }
   ],
   "source": [
    "autos.describe(include='object')"
   ]
  },
  {
   "cell_type": "code",
   "execution_count": 25,
   "metadata": {},
   "outputs": [],
   "source": [
    "peak_rpm_median = autos['peak-rpm'].dropna().median()\n",
    "peak_rpm_median \n",
    "autos['peak-rpm'].fillna(peak_rpm_median, inplace=True)"
   ]
  },
  {
   "cell_type": "code",
   "execution_count": 26,
   "metadata": {},
   "outputs": [
    {
     "data": {
      "text/html": [
       "<div>\n",
       "<style scoped>\n",
       "    .dataframe tbody tr th:only-of-type {\n",
       "        vertical-align: middle;\n",
       "    }\n",
       "\n",
       "    .dataframe tbody tr th {\n",
       "        vertical-align: top;\n",
       "    }\n",
       "\n",
       "    .dataframe thead th {\n",
       "        text-align: right;\n",
       "    }\n",
       "</style>\n",
       "<table border=\"1\" class=\"dataframe\">\n",
       "  <thead>\n",
       "    <tr style=\"text-align: right;\">\n",
       "      <th></th>\n",
       "      <th>make</th>\n",
       "      <th>fuel-type</th>\n",
       "      <th>aspiration</th>\n",
       "      <th>num-of-doors</th>\n",
       "      <th>body-style</th>\n",
       "      <th>drive-wheels</th>\n",
       "      <th>engine-location</th>\n",
       "      <th>engine-type</th>\n",
       "      <th>num-of-cylinders</th>\n",
       "      <th>fuel-system</th>\n",
       "    </tr>\n",
       "  </thead>\n",
       "  <tbody>\n",
       "    <tr>\n",
       "      <th>count</th>\n",
       "      <td>205</td>\n",
       "      <td>205</td>\n",
       "      <td>205</td>\n",
       "      <td>203</td>\n",
       "      <td>205</td>\n",
       "      <td>205</td>\n",
       "      <td>205</td>\n",
       "      <td>205</td>\n",
       "      <td>205</td>\n",
       "      <td>205</td>\n",
       "    </tr>\n",
       "    <tr>\n",
       "      <th>unique</th>\n",
       "      <td>22</td>\n",
       "      <td>2</td>\n",
       "      <td>2</td>\n",
       "      <td>2</td>\n",
       "      <td>5</td>\n",
       "      <td>3</td>\n",
       "      <td>2</td>\n",
       "      <td>7</td>\n",
       "      <td>7</td>\n",
       "      <td>8</td>\n",
       "    </tr>\n",
       "    <tr>\n",
       "      <th>top</th>\n",
       "      <td>toyota</td>\n",
       "      <td>gas</td>\n",
       "      <td>std</td>\n",
       "      <td>four</td>\n",
       "      <td>sedan</td>\n",
       "      <td>fwd</td>\n",
       "      <td>front</td>\n",
       "      <td>ohc</td>\n",
       "      <td>four</td>\n",
       "      <td>mpfi</td>\n",
       "    </tr>\n",
       "    <tr>\n",
       "      <th>freq</th>\n",
       "      <td>32</td>\n",
       "      <td>185</td>\n",
       "      <td>168</td>\n",
       "      <td>114</td>\n",
       "      <td>96</td>\n",
       "      <td>120</td>\n",
       "      <td>202</td>\n",
       "      <td>148</td>\n",
       "      <td>159</td>\n",
       "      <td>94</td>\n",
       "    </tr>\n",
       "  </tbody>\n",
       "</table>\n",
       "</div>"
      ],
      "text/plain": [
       "          make fuel-type aspiration num-of-doors body-style drive-wheels  \\\n",
       "count      205       205        205          203        205          205   \n",
       "unique      22         2          2            2          5            3   \n",
       "top     toyota       gas        std         four      sedan          fwd   \n",
       "freq        32       185        168          114         96          120   \n",
       "\n",
       "       engine-location engine-type num-of-cylinders fuel-system  \n",
       "count              205         205              205         205  \n",
       "unique               2           7                7           8  \n",
       "top              front         ohc             four        mpfi  \n",
       "freq               202         148              159          94  "
      ]
     },
     "execution_count": 26,
     "metadata": {},
     "output_type": "execute_result"
    }
   ],
   "source": [
    "autos.describe(include='object')"
   ]
  },
  {
   "cell_type": "code",
   "execution_count": 27,
   "metadata": {},
   "outputs": [],
   "source": [
    "autos.symboling = autos.symboling.astype(str)\n",
    "#pd.get_dummies(autos[['symboling']])"
   ]
  },
  {
   "cell_type": "code",
   "execution_count": 28,
   "metadata": {},
   "outputs": [
    {
     "name": "stdout",
     "output_type": "stream",
     "text": [
      "<class 'pandas.core.frame.DataFrame'>\n",
      "RangeIndex: 205 entries, 0 to 204\n",
      "Data columns (total 55 columns):\n",
      "symboling_-2               205 non-null uint8\n",
      "symboling_0                205 non-null uint8\n",
      "symboling_1                205 non-null uint8\n",
      "symboling_2                205 non-null uint8\n",
      "symboling_3                205 non-null uint8\n",
      "make_audi                  205 non-null uint8\n",
      "make_bmw                   205 non-null uint8\n",
      "make_chevrolet             205 non-null uint8\n",
      "make_dodge                 205 non-null uint8\n",
      "make_honda                 205 non-null uint8\n",
      "make_isuzu                 205 non-null uint8\n",
      "make_jaguar                205 non-null uint8\n",
      "make_mazda                 205 non-null uint8\n",
      "make_mercedes-benz         205 non-null uint8\n",
      "make_mercury               205 non-null uint8\n",
      "make_mitsubishi            205 non-null uint8\n",
      "make_nissan                205 non-null uint8\n",
      "make_peugot                205 non-null uint8\n",
      "make_plymouth              205 non-null uint8\n",
      "make_porsche               205 non-null uint8\n",
      "make_renault               205 non-null uint8\n",
      "make_saab                  205 non-null uint8\n",
      "make_subaru                205 non-null uint8\n",
      "make_toyota                205 non-null uint8\n",
      "make_volkswagen            205 non-null uint8\n",
      "make_volvo                 205 non-null uint8\n",
      "fuel-type_gas              205 non-null uint8\n",
      "aspiration_turbo           205 non-null uint8\n",
      "num-of-doors_two           205 non-null uint8\n",
      "body-style_hardtop         205 non-null uint8\n",
      "body-style_hatchback       205 non-null uint8\n",
      "body-style_sedan           205 non-null uint8\n",
      "body-style_wagon           205 non-null uint8\n",
      "drive-wheels_fwd           205 non-null uint8\n",
      "drive-wheels_rwd           205 non-null uint8\n",
      "engine-location_rear       205 non-null uint8\n",
      "engine-type_dohcv          205 non-null uint8\n",
      "engine-type_l              205 non-null uint8\n",
      "engine-type_ohc            205 non-null uint8\n",
      "engine-type_ohcf           205 non-null uint8\n",
      "engine-type_ohcv           205 non-null uint8\n",
      "engine-type_rotor          205 non-null uint8\n",
      "num-of-cylinders_five      205 non-null uint8\n",
      "num-of-cylinders_four      205 non-null uint8\n",
      "num-of-cylinders_six       205 non-null uint8\n",
      "num-of-cylinders_three     205 non-null uint8\n",
      "num-of-cylinders_twelve    205 non-null uint8\n",
      "num-of-cylinders_two       205 non-null uint8\n",
      "fuel-system_2bbl           205 non-null uint8\n",
      "fuel-system_4bbl           205 non-null uint8\n",
      "fuel-system_idi            205 non-null uint8\n",
      "fuel-system_mfi            205 non-null uint8\n",
      "fuel-system_mpfi           205 non-null uint8\n",
      "fuel-system_spdi           205 non-null uint8\n",
      "fuel-system_spfi           205 non-null uint8\n",
      "dtypes: uint8(55)\n",
      "memory usage: 11.1 KB\n"
     ]
    }
   ],
   "source": [
    "df2 = pd.get_dummies(autos[['symboling', 'make', 'fuel-type', 'aspiration', 'num-of-doors', 'body-style', 'drive-wheels', 'engine-location', 'engine-type', 'num-of-cylinders', 'fuel-system']], drop_first=True)\n",
    "df2.info()"
   ]
  },
  {
   "cell_type": "code",
   "execution_count": 29,
   "metadata": {},
   "outputs": [],
   "source": [
    "autos_dummy = pd.concat([autos, df2], axis=1)"
   ]
  },
  {
   "cell_type": "code",
   "execution_count": 30,
   "metadata": {},
   "outputs": [
    {
     "name": "stdout",
     "output_type": "stream",
     "text": [
      "<class 'pandas.core.frame.DataFrame'>\n",
      "RangeIndex: 205 entries, 0 to 204\n",
      "Data columns (total 81 columns):\n",
      "symboling                  205 non-null object\n",
      "normalized-losses          205 non-null float64\n",
      "make                       205 non-null object\n",
      "fuel-type                  205 non-null object\n",
      "aspiration                 205 non-null object\n",
      "num-of-doors               203 non-null object\n",
      "body-style                 205 non-null object\n",
      "drive-wheels               205 non-null object\n",
      "engine-location            205 non-null object\n",
      "wheel-base                 205 non-null float64\n",
      "length                     205 non-null float64\n",
      "width                      205 non-null float64\n",
      "height                     205 non-null float64\n",
      "curb-weight                205 non-null int64\n",
      "engine-type                205 non-null object\n",
      "num-of-cylinders           205 non-null object\n",
      "engine-size                205 non-null int64\n",
      "fuel-system                205 non-null object\n",
      "bore                       205 non-null float64\n",
      "stroke                     205 non-null float64\n",
      "compression-ratio          205 non-null float64\n",
      "horsepower                 205 non-null float64\n",
      "peak-rpm                   205 non-null float64\n",
      "city-mpg                   205 non-null int64\n",
      "highway-mpg                205 non-null int64\n",
      "price                      205 non-null float64\n",
      "symboling_-2               205 non-null uint8\n",
      "symboling_0                205 non-null uint8\n",
      "symboling_1                205 non-null uint8\n",
      "symboling_2                205 non-null uint8\n",
      "symboling_3                205 non-null uint8\n",
      "make_audi                  205 non-null uint8\n",
      "make_bmw                   205 non-null uint8\n",
      "make_chevrolet             205 non-null uint8\n",
      "make_dodge                 205 non-null uint8\n",
      "make_honda                 205 non-null uint8\n",
      "make_isuzu                 205 non-null uint8\n",
      "make_jaguar                205 non-null uint8\n",
      "make_mazda                 205 non-null uint8\n",
      "make_mercedes-benz         205 non-null uint8\n",
      "make_mercury               205 non-null uint8\n",
      "make_mitsubishi            205 non-null uint8\n",
      "make_nissan                205 non-null uint8\n",
      "make_peugot                205 non-null uint8\n",
      "make_plymouth              205 non-null uint8\n",
      "make_porsche               205 non-null uint8\n",
      "make_renault               205 non-null uint8\n",
      "make_saab                  205 non-null uint8\n",
      "make_subaru                205 non-null uint8\n",
      "make_toyota                205 non-null uint8\n",
      "make_volkswagen            205 non-null uint8\n",
      "make_volvo                 205 non-null uint8\n",
      "fuel-type_gas              205 non-null uint8\n",
      "aspiration_turbo           205 non-null uint8\n",
      "num-of-doors_two           205 non-null uint8\n",
      "body-style_hardtop         205 non-null uint8\n",
      "body-style_hatchback       205 non-null uint8\n",
      "body-style_sedan           205 non-null uint8\n",
      "body-style_wagon           205 non-null uint8\n",
      "drive-wheels_fwd           205 non-null uint8\n",
      "drive-wheels_rwd           205 non-null uint8\n",
      "engine-location_rear       205 non-null uint8\n",
      "engine-type_dohcv          205 non-null uint8\n",
      "engine-type_l              205 non-null uint8\n",
      "engine-type_ohc            205 non-null uint8\n",
      "engine-type_ohcf           205 non-null uint8\n",
      "engine-type_ohcv           205 non-null uint8\n",
      "engine-type_rotor          205 non-null uint8\n",
      "num-of-cylinders_five      205 non-null uint8\n",
      "num-of-cylinders_four      205 non-null uint8\n",
      "num-of-cylinders_six       205 non-null uint8\n",
      "num-of-cylinders_three     205 non-null uint8\n",
      "num-of-cylinders_twelve    205 non-null uint8\n",
      "num-of-cylinders_two       205 non-null uint8\n",
      "fuel-system_2bbl           205 non-null uint8\n",
      "fuel-system_4bbl           205 non-null uint8\n",
      "fuel-system_idi            205 non-null uint8\n",
      "fuel-system_mfi            205 non-null uint8\n",
      "fuel-system_mpfi           205 non-null uint8\n",
      "fuel-system_spdi           205 non-null uint8\n",
      "fuel-system_spfi           205 non-null uint8\n",
      "dtypes: float64(11), int64(4), object(11), uint8(55)\n",
      "memory usage: 52.7+ KB\n"
     ]
    }
   ],
   "source": [
    "autos_dummy.info()"
   ]
  },
  {
   "cell_type": "code",
   "execution_count": 31,
   "metadata": {},
   "outputs": [],
   "source": [
    "from sklearn.model_selection import train_test_split"
   ]
  },
  {
   "cell_type": "code",
   "execution_count": 32,
   "metadata": {},
   "outputs": [
    {
     "data": {
      "text/plain": [
       "Index(['symboling', 'normalized-losses', 'make', 'fuel-type', 'aspiration',\n",
       "       'num-of-doors', 'body-style', 'drive-wheels', 'engine-location',\n",
       "       'wheel-base', 'length', 'width', 'height', 'curb-weight', 'engine-type',\n",
       "       'num-of-cylinders', 'engine-size', 'fuel-system', 'bore', 'stroke',\n",
       "       'compression-ratio', 'horsepower', 'peak-rpm', 'city-mpg',\n",
       "       'highway-mpg', 'price', 'symboling_-2', 'symboling_0', 'symboling_1',\n",
       "       'symboling_2', 'symboling_3', 'make_audi', 'make_bmw', 'make_chevrolet',\n",
       "       'make_dodge', 'make_honda', 'make_isuzu', 'make_jaguar', 'make_mazda',\n",
       "       'make_mercedes-benz', 'make_mercury', 'make_mitsubishi', 'make_nissan',\n",
       "       'make_peugot', 'make_plymouth', 'make_porsche', 'make_renault',\n",
       "       'make_saab', 'make_subaru', 'make_toyota', 'make_volkswagen',\n",
       "       'make_volvo', 'fuel-type_gas', 'aspiration_turbo', 'num-of-doors_two',\n",
       "       'body-style_hardtop', 'body-style_hatchback', 'body-style_sedan',\n",
       "       'body-style_wagon', 'drive-wheels_fwd', 'drive-wheels_rwd',\n",
       "       'engine-location_rear', 'engine-type_dohcv', 'engine-type_l',\n",
       "       'engine-type_ohc', 'engine-type_ohcf', 'engine-type_ohcv',\n",
       "       'engine-type_rotor', 'num-of-cylinders_five', 'num-of-cylinders_four',\n",
       "       'num-of-cylinders_six', 'num-of-cylinders_three',\n",
       "       'num-of-cylinders_twelve', 'num-of-cylinders_two', 'fuel-system_2bbl',\n",
       "       'fuel-system_4bbl', 'fuel-system_idi', 'fuel-system_mfi',\n",
       "       'fuel-system_mpfi', 'fuel-system_spdi', 'fuel-system_spfi'],\n",
       "      dtype='object')"
      ]
     },
     "execution_count": 32,
     "metadata": {},
     "output_type": "execute_result"
    }
   ],
   "source": [
    "autos_dummy.columns"
   ]
  },
  {
   "cell_type": "code",
   "execution_count": 34,
   "metadata": {},
   "outputs": [],
   "source": [
    "X= autos_dummy[ ['aspiration_turbo', 'body-style_hardtop',\n",
    "       'body-style_hatchback', 'body-style_sedan', 'body-style_wagon', 'bore',\n",
    "       'city-mpg', 'compression-ratio', 'curb-weight',\n",
    "       'drive-wheels_fwd', 'drive-wheels_rwd', \n",
    "       'engine-location_rear', 'engine-size', \n",
    "       'engine-type_dohcv', 'engine-type_l', 'engine-type_ohc',\n",
    "       'engine-type_ohcf', 'engine-type_ohcv', 'engine-type_rotor',\n",
    "        'fuel-system_2bbl', 'fuel-system_4bbl',\n",
    "       'fuel-system_idi', 'fuel-system_mfi', 'fuel-system_mpfi',\n",
    "       'fuel-system_spdi', 'fuel-system_spfi', 'fuel-type_gas',\n",
    "       'height', 'highway-mpg', 'horsepower', 'length', 'make_audi',\n",
    "       'make_bmw', 'make_chevrolet', 'make_dodge', 'make_honda', 'make_isuzu',\n",
    "       'make_jaguar', 'make_mazda', 'make_mercedes-benz', 'make_mercury',\n",
    "       'make_mitsubishi', 'make_nissan', 'make_peugot', 'make_plymouth',\n",
    "       'make_porsche', 'make_renault', 'make_saab', 'make_subaru',\n",
    "       'make_toyota', 'make_volkswagen', 'make_volvo', 'normalized-losses',\n",
    "        'num-of-cylinders_five', 'num-of-cylinders_four',\n",
    "       'num-of-cylinders_six', 'num-of-cylinders_three',\n",
    "       'num-of-cylinders_twelve', 'num-of-cylinders_two',\n",
    "       'num-of-doors_two', 'peak-rpm', 'stroke', \n",
    "       'symboling_-2', 'symboling_0', 'symboling_1', 'symboling_2',\n",
    "       'symboling_3', 'wheel-base', 'width']]\n"
   ]
  },
  {
   "cell_type": "code",
   "execution_count": 59,
   "metadata": {},
   "outputs": [],
   "source": [
    "y= np.array(autos_dummy['price'])"
   ]
  },
  {
   "cell_type": "code",
   "execution_count": 60,
   "metadata": {},
   "outputs": [],
   "source": [
    "X_train, X_test, y_train, y_test = train_test_split(X, y, test_size=1/3)"
   ]
  },
  {
   "cell_type": "code",
   "execution_count": 79,
   "metadata": {},
   "outputs": [
    {
     "name": "stdout",
     "output_type": "stream",
     "text": [
      "<class 'pandas.core.frame.DataFrame'>\n",
      "Int64Index: 69 entries, 30 to 87\n",
      "Data columns (total 69 columns):\n",
      "aspiration_turbo           69 non-null uint8\n",
      "body-style_hardtop         69 non-null uint8\n",
      "body-style_hatchback       69 non-null uint8\n",
      "body-style_sedan           69 non-null uint8\n",
      "body-style_wagon           69 non-null uint8\n",
      "bore                       69 non-null float64\n",
      "city-mpg                   69 non-null int64\n",
      "compression-ratio          69 non-null float64\n",
      "curb-weight                69 non-null int64\n",
      "drive-wheels_fwd           69 non-null uint8\n",
      "drive-wheels_rwd           69 non-null uint8\n",
      "engine-location_rear       69 non-null uint8\n",
      "engine-size                69 non-null int64\n",
      "engine-type_dohcv          69 non-null uint8\n",
      "engine-type_l              69 non-null uint8\n",
      "engine-type_ohc            69 non-null uint8\n",
      "engine-type_ohcf           69 non-null uint8\n",
      "engine-type_ohcv           69 non-null uint8\n",
      "engine-type_rotor          69 non-null uint8\n",
      "fuel-system_2bbl           69 non-null uint8\n",
      "fuel-system_4bbl           69 non-null uint8\n",
      "fuel-system_idi            69 non-null uint8\n",
      "fuel-system_mfi            69 non-null uint8\n",
      "fuel-system_mpfi           69 non-null uint8\n",
      "fuel-system_spdi           69 non-null uint8\n",
      "fuel-system_spfi           69 non-null uint8\n",
      "fuel-type_gas              69 non-null uint8\n",
      "height                     69 non-null float64\n",
      "highway-mpg                69 non-null int64\n",
      "horsepower                 69 non-null float64\n",
      "length                     69 non-null float64\n",
      "make_audi                  69 non-null uint8\n",
      "make_bmw                   69 non-null uint8\n",
      "make_chevrolet             69 non-null uint8\n",
      "make_dodge                 69 non-null uint8\n",
      "make_honda                 69 non-null uint8\n",
      "make_isuzu                 69 non-null uint8\n",
      "make_jaguar                69 non-null uint8\n",
      "make_mazda                 69 non-null uint8\n",
      "make_mercedes-benz         69 non-null uint8\n",
      "make_mercury               69 non-null uint8\n",
      "make_mitsubishi            69 non-null uint8\n",
      "make_nissan                69 non-null uint8\n",
      "make_peugot                69 non-null uint8\n",
      "make_plymouth              69 non-null uint8\n",
      "make_porsche               69 non-null uint8\n",
      "make_renault               69 non-null uint8\n",
      "make_saab                  69 non-null uint8\n",
      "make_subaru                69 non-null uint8\n",
      "make_toyota                69 non-null uint8\n",
      "make_volkswagen            69 non-null uint8\n",
      "make_volvo                 69 non-null uint8\n",
      "normalized-losses          69 non-null float64\n",
      "num-of-cylinders_five      69 non-null uint8\n",
      "num-of-cylinders_four      69 non-null uint8\n",
      "num-of-cylinders_six       69 non-null uint8\n",
      "num-of-cylinders_three     69 non-null uint8\n",
      "num-of-cylinders_twelve    69 non-null uint8\n",
      "num-of-cylinders_two       69 non-null uint8\n",
      "num-of-doors_two           69 non-null uint8\n",
      "peak-rpm                   69 non-null float64\n",
      "stroke                     69 non-null float64\n",
      "symboling_-2               69 non-null uint8\n",
      "symboling_0                69 non-null uint8\n",
      "symboling_1                69 non-null uint8\n",
      "symboling_2                69 non-null uint8\n",
      "symboling_3                69 non-null uint8\n",
      "wheel-base                 69 non-null float64\n",
      "width                      69 non-null float64\n",
      "dtypes: float64(10), int64(4), uint8(55)\n",
      "memory usage: 11.8 KB\n"
     ]
    }
   ],
   "source": [
    "X_test.info()"
   ]
  },
  {
   "cell_type": "code",
   "execution_count": 80,
   "metadata": {},
   "outputs": [
    {
     "data": {
      "text/plain": [
       "array([ 6479., 12964., 31600.,  8845.,  7788.,  9639., 16430.,  7053.,\n",
       "        5572.,  6849., 13200., 16503., 18620., 10945., 10595., 16500.,\n",
       "       11048., 19699.,  9549., 13495.,  6692., 16558.,  8845., 15580.,\n",
       "       16925., 10698.,  8013., 18150., 10245., 12440., 19045., 18920.,\n",
       "       16900.,  6229.,  5572., 40960.,  8948.,  8921., 11199., 13499.,\n",
       "        8495., 15750.,  5118., 18150.,  7126., 17075.,  7999., 10295.,\n",
       "        6377., 10295.,  9538.,  9960.,  9495.,  9989., 12170.,  9959.,\n",
       "       15690., 16515.,  9258.,  8499.,  7898.,  7499.,  7609.,  6095.,\n",
       "       10345., 15250.,  6575.,  9988.,  9279.])"
      ]
     },
     "execution_count": 80,
     "metadata": {},
     "output_type": "execute_result"
    }
   ],
   "source": [
    "y_test"
   ]
  },
  {
   "cell_type": "code",
   "execution_count": 62,
   "metadata": {},
   "outputs": [],
   "source": [
    "from sklearn.linear_model import LinearRegression"
   ]
  },
  {
   "cell_type": "code",
   "execution_count": 63,
   "metadata": {},
   "outputs": [],
   "source": [
    "lm = LinearRegression()"
   ]
  },
  {
   "cell_type": "code",
   "execution_count": 64,
   "metadata": {},
   "outputs": [
    {
     "data": {
      "text/plain": [
       "LinearRegression(copy_X=True, fit_intercept=True, n_jobs=1, normalize=False)"
      ]
     },
     "execution_count": 64,
     "metadata": {},
     "output_type": "execute_result"
    }
   ],
   "source": [
    "lm.fit(X_train, y_train)"
   ]
  },
  {
   "cell_type": "code",
   "execution_count": 65,
   "metadata": {},
   "outputs": [
    {
     "data": {
      "text/plain": [
       "0.9697007117734112"
      ]
     },
     "execution_count": 65,
     "metadata": {},
     "output_type": "execute_result"
    }
   ],
   "source": [
    "lm.score(X_train, y_train)"
   ]
  },
  {
   "cell_type": "code",
   "execution_count": 66,
   "metadata": {},
   "outputs": [
    {
     "data": {
      "text/plain": [
       "0.7904111717250768"
      ]
     },
     "execution_count": 66,
     "metadata": {},
     "output_type": "execute_result"
    }
   ],
   "source": [
    "lm.score(X_test, y_test)"
   ]
  },
  {
   "cell_type": "code",
   "execution_count": 81,
   "metadata": {},
   "outputs": [],
   "source": [
    "y_pred = lm.predict(X_test)"
   ]
  },
  {
   "cell_type": "code",
   "execution_count": 82,
   "metadata": {},
   "outputs": [
    {
     "data": {
      "text/plain": [
       "array([ 1371.22560335,  9699.9763117 , 30282.71259321, 12763.77238021,\n",
       "        6895.23415824, 12401.05285372, 22606.09655114,  6935.69812267,\n",
       "        4025.64050932,  6829.58393587, 17402.235396  , 24997.80639533,\n",
       "       13932.4543583 , 12729.69320854, 12763.77238021, 15642.73597012,\n",
       "        8018.55106347, 18145.03735547, 11144.82075029, 15642.73597012,\n",
       "        7182.14697361, 15873.61761979,  8316.769654  , 15715.2684344 ,\n",
       "       21963.37313325, 13379.45507749,  8757.71747762, 11325.28530592,\n",
       "       13137.35923778, 12650.29527862, 21311.57669784, 19161.00961943,\n",
       "       17738.98480818,  5812.22204187,  4455.86880094, 43919.00896608,\n",
       "        9132.16289476,  8354.63709533, 13276.60132538, 14411.87655263,\n",
       "       13137.35923778, 14819.27445606,  7155.04036065, 19417.16739999,\n",
       "        9162.17647428, 17288.73661931,  6099.02336844,  5583.94227864,\n",
       "        4350.53821349,  9603.05882504,  7852.05924698, 10492.91467862,\n",
       "        9083.16169504, 11283.04445387, 13990.01079022,  8755.87564358,\n",
       "       15804.20281583, 15197.88597843,  8395.32065324,  6602.36644986,\n",
       "        4200.15505993,  7031.63358318,  7577.02135964,  6857.92661582,\n",
       "       16378.21629101, 12323.79363068,  6565.14768721,  8516.622455  ,\n",
       "       11115.01912177])"
      ]
     },
     "execution_count": 82,
     "metadata": {},
     "output_type": "execute_result"
    }
   ],
   "source": [
    "y_pred"
   ]
  },
  {
   "cell_type": "code",
   "execution_count": 68,
   "metadata": {},
   "outputs": [
    {
     "data": {
      "text/html": [
       "<div>\n",
       "<style scoped>\n",
       "    .dataframe tbody tr th:only-of-type {\n",
       "        vertical-align: middle;\n",
       "    }\n",
       "\n",
       "    .dataframe tbody tr th {\n",
       "        vertical-align: top;\n",
       "    }\n",
       "\n",
       "    .dataframe thead th {\n",
       "        text-align: right;\n",
       "    }\n",
       "</style>\n",
       "<table border=\"1\" class=\"dataframe\">\n",
       "  <thead>\n",
       "    <tr style=\"text-align: right;\">\n",
       "      <th></th>\n",
       "      <th>Coefficient</th>\n",
       "    </tr>\n",
       "  </thead>\n",
       "  <tbody>\n",
       "    <tr>\n",
       "      <th>aspiration_turbo</th>\n",
       "      <td>1.811747e+03</td>\n",
       "    </tr>\n",
       "    <tr>\n",
       "      <th>body-style_hardtop</th>\n",
       "      <td>-2.455735e+03</td>\n",
       "    </tr>\n",
       "    <tr>\n",
       "      <th>body-style_hatchback</th>\n",
       "      <td>-3.665584e+03</td>\n",
       "    </tr>\n",
       "    <tr>\n",
       "      <th>body-style_sedan</th>\n",
       "      <td>-2.197719e+03</td>\n",
       "    </tr>\n",
       "    <tr>\n",
       "      <th>body-style_wagon</th>\n",
       "      <td>-2.557671e+03</td>\n",
       "    </tr>\n",
       "    <tr>\n",
       "      <th>bore</th>\n",
       "      <td>-2.758349e+03</td>\n",
       "    </tr>\n",
       "    <tr>\n",
       "      <th>city-mpg</th>\n",
       "      <td>-7.184411e+01</td>\n",
       "    </tr>\n",
       "    <tr>\n",
       "      <th>compression-ratio</th>\n",
       "      <td>-9.977190e+02</td>\n",
       "    </tr>\n",
       "    <tr>\n",
       "      <th>curb-weight</th>\n",
       "      <td>6.122717e+00</td>\n",
       "    </tr>\n",
       "    <tr>\n",
       "      <th>drive-wheels_fwd</th>\n",
       "      <td>1.320654e+03</td>\n",
       "    </tr>\n",
       "    <tr>\n",
       "      <th>drive-wheels_rwd</th>\n",
       "      <td>8.987384e+02</td>\n",
       "    </tr>\n",
       "    <tr>\n",
       "      <th>engine-location_rear</th>\n",
       "      <td>1.186151e+04</td>\n",
       "    </tr>\n",
       "    <tr>\n",
       "      <th>engine-size</th>\n",
       "      <td>1.166991e+02</td>\n",
       "    </tr>\n",
       "    <tr>\n",
       "      <th>engine-type_dohcv</th>\n",
       "      <td>-2.085803e+04</td>\n",
       "    </tr>\n",
       "    <tr>\n",
       "      <th>engine-type_l</th>\n",
       "      <td>3.872374e+02</td>\n",
       "    </tr>\n",
       "    <tr>\n",
       "      <th>engine-type_ohc</th>\n",
       "      <td>2.889898e+03</td>\n",
       "    </tr>\n",
       "    <tr>\n",
       "      <th>engine-type_ohcf</th>\n",
       "      <td>4.192788e+03</td>\n",
       "    </tr>\n",
       "    <tr>\n",
       "      <th>engine-type_ohcv</th>\n",
       "      <td>-1.038158e+03</td>\n",
       "    </tr>\n",
       "    <tr>\n",
       "      <th>engine-type_rotor</th>\n",
       "      <td>4.640572e+03</td>\n",
       "    </tr>\n",
       "    <tr>\n",
       "      <th>fuel-system_2bbl</th>\n",
       "      <td>5.673086e+03</td>\n",
       "    </tr>\n",
       "    <tr>\n",
       "      <th>fuel-system_4bbl</th>\n",
       "      <td>2.245193e+03</td>\n",
       "    </tr>\n",
       "    <tr>\n",
       "      <th>fuel-system_idi</th>\n",
       "      <td>9.368654e+03</td>\n",
       "    </tr>\n",
       "    <tr>\n",
       "      <th>fuel-system_mfi</th>\n",
       "      <td>-4.791900e-11</td>\n",
       "    </tr>\n",
       "    <tr>\n",
       "      <th>fuel-system_mpfi</th>\n",
       "      <td>3.962811e+03</td>\n",
       "    </tr>\n",
       "    <tr>\n",
       "      <th>fuel-system_spdi</th>\n",
       "      <td>4.505844e+03</td>\n",
       "    </tr>\n",
       "    <tr>\n",
       "      <th>fuel-system_spfi</th>\n",
       "      <td>2.705747e-11</td>\n",
       "    </tr>\n",
       "    <tr>\n",
       "      <th>fuel-type_gas</th>\n",
       "      <td>-9.368654e+03</td>\n",
       "    </tr>\n",
       "    <tr>\n",
       "      <th>height</th>\n",
       "      <td>-2.472672e+02</td>\n",
       "    </tr>\n",
       "    <tr>\n",
       "      <th>highway-mpg</th>\n",
       "      <td>3.871472e+01</td>\n",
       "    </tr>\n",
       "    <tr>\n",
       "      <th>horsepower</th>\n",
       "      <td>-2.281978e+01</td>\n",
       "    </tr>\n",
       "    <tr>\n",
       "      <th>...</th>\n",
       "      <td>...</td>\n",
       "    </tr>\n",
       "    <tr>\n",
       "      <th>make_mercedes-benz</th>\n",
       "      <td>-3.764243e+03</td>\n",
       "    </tr>\n",
       "    <tr>\n",
       "      <th>make_mercury</th>\n",
       "      <td>5.456968e-12</td>\n",
       "    </tr>\n",
       "    <tr>\n",
       "      <th>make_mitsubishi</th>\n",
       "      <td>-1.131431e+04</td>\n",
       "    </tr>\n",
       "    <tr>\n",
       "      <th>make_nissan</th>\n",
       "      <td>-7.017858e+03</td>\n",
       "    </tr>\n",
       "    <tr>\n",
       "      <th>make_peugot</th>\n",
       "      <td>-9.591755e+03</td>\n",
       "    </tr>\n",
       "    <tr>\n",
       "      <th>make_plymouth</th>\n",
       "      <td>-1.036518e+04</td>\n",
       "    </tr>\n",
       "    <tr>\n",
       "      <th>make_porsche</th>\n",
       "      <td>-2.605279e+03</td>\n",
       "    </tr>\n",
       "    <tr>\n",
       "      <th>make_renault</th>\n",
       "      <td>-8.379906e+03</td>\n",
       "    </tr>\n",
       "    <tr>\n",
       "      <th>make_saab</th>\n",
       "      <td>-4.595755e+03</td>\n",
       "    </tr>\n",
       "    <tr>\n",
       "      <th>make_subaru</th>\n",
       "      <td>-7.668718e+03</td>\n",
       "    </tr>\n",
       "    <tr>\n",
       "      <th>make_toyota</th>\n",
       "      <td>-6.435303e+03</td>\n",
       "    </tr>\n",
       "    <tr>\n",
       "      <th>make_volkswagen</th>\n",
       "      <td>-6.924245e+03</td>\n",
       "    </tr>\n",
       "    <tr>\n",
       "      <th>make_volvo</th>\n",
       "      <td>-7.072256e+03</td>\n",
       "    </tr>\n",
       "    <tr>\n",
       "      <th>normalized-losses</th>\n",
       "      <td>1.390865e+01</td>\n",
       "    </tr>\n",
       "    <tr>\n",
       "      <th>num-of-cylinders_five</th>\n",
       "      <td>-5.343107e+03</td>\n",
       "    </tr>\n",
       "    <tr>\n",
       "      <th>num-of-cylinders_four</th>\n",
       "      <td>-2.438165e+02</td>\n",
       "    </tr>\n",
       "    <tr>\n",
       "      <th>num-of-cylinders_six</th>\n",
       "      <td>-2.050507e+03</td>\n",
       "    </tr>\n",
       "    <tr>\n",
       "      <th>num-of-cylinders_three</th>\n",
       "      <td>9.978993e+03</td>\n",
       "    </tr>\n",
       "    <tr>\n",
       "      <th>num-of-cylinders_twelve</th>\n",
       "      <td>-4.912057e+03</td>\n",
       "    </tr>\n",
       "    <tr>\n",
       "      <th>num-of-cylinders_two</th>\n",
       "      <td>4.640572e+03</td>\n",
       "    </tr>\n",
       "    <tr>\n",
       "      <th>num-of-doors_two</th>\n",
       "      <td>-2.051633e+02</td>\n",
       "    </tr>\n",
       "    <tr>\n",
       "      <th>peak-rpm</th>\n",
       "      <td>3.461426e+00</td>\n",
       "    </tr>\n",
       "    <tr>\n",
       "      <th>stroke</th>\n",
       "      <td>-2.185699e+03</td>\n",
       "    </tr>\n",
       "    <tr>\n",
       "      <th>symboling_-2</th>\n",
       "      <td>-4.145706e+02</td>\n",
       "    </tr>\n",
       "    <tr>\n",
       "      <th>symboling_0</th>\n",
       "      <td>-3.231092e+02</td>\n",
       "    </tr>\n",
       "    <tr>\n",
       "      <th>symboling_1</th>\n",
       "      <td>4.895986e+02</td>\n",
       "    </tr>\n",
       "    <tr>\n",
       "      <th>symboling_2</th>\n",
       "      <td>5.247775e+02</td>\n",
       "    </tr>\n",
       "    <tr>\n",
       "      <th>symboling_3</th>\n",
       "      <td>-8.103749e+02</td>\n",
       "    </tr>\n",
       "    <tr>\n",
       "      <th>wheel-base</th>\n",
       "      <td>3.335294e+02</td>\n",
       "    </tr>\n",
       "    <tr>\n",
       "      <th>width</th>\n",
       "      <td>1.166360e+03</td>\n",
       "    </tr>\n",
       "  </tbody>\n",
       "</table>\n",
       "<p>69 rows × 1 columns</p>\n",
       "</div>"
      ],
      "text/plain": [
       "                          Coefficient\n",
       "aspiration_turbo         1.811747e+03\n",
       "body-style_hardtop      -2.455735e+03\n",
       "body-style_hatchback    -3.665584e+03\n",
       "body-style_sedan        -2.197719e+03\n",
       "body-style_wagon        -2.557671e+03\n",
       "bore                    -2.758349e+03\n",
       "city-mpg                -7.184411e+01\n",
       "compression-ratio       -9.977190e+02\n",
       "curb-weight              6.122717e+00\n",
       "drive-wheels_fwd         1.320654e+03\n",
       "drive-wheels_rwd         8.987384e+02\n",
       "engine-location_rear     1.186151e+04\n",
       "engine-size              1.166991e+02\n",
       "engine-type_dohcv       -2.085803e+04\n",
       "engine-type_l            3.872374e+02\n",
       "engine-type_ohc          2.889898e+03\n",
       "engine-type_ohcf         4.192788e+03\n",
       "engine-type_ohcv        -1.038158e+03\n",
       "engine-type_rotor        4.640572e+03\n",
       "fuel-system_2bbl         5.673086e+03\n",
       "fuel-system_4bbl         2.245193e+03\n",
       "fuel-system_idi          9.368654e+03\n",
       "fuel-system_mfi         -4.791900e-11\n",
       "fuel-system_mpfi         3.962811e+03\n",
       "fuel-system_spdi         4.505844e+03\n",
       "fuel-system_spfi         2.705747e-11\n",
       "fuel-type_gas           -9.368654e+03\n",
       "height                  -2.472672e+02\n",
       "highway-mpg              3.871472e+01\n",
       "horsepower              -2.281978e+01\n",
       "...                               ...\n",
       "make_mercedes-benz      -3.764243e+03\n",
       "make_mercury             5.456968e-12\n",
       "make_mitsubishi         -1.131431e+04\n",
       "make_nissan             -7.017858e+03\n",
       "make_peugot             -9.591755e+03\n",
       "make_plymouth           -1.036518e+04\n",
       "make_porsche            -2.605279e+03\n",
       "make_renault            -8.379906e+03\n",
       "make_saab               -4.595755e+03\n",
       "make_subaru             -7.668718e+03\n",
       "make_toyota             -6.435303e+03\n",
       "make_volkswagen         -6.924245e+03\n",
       "make_volvo              -7.072256e+03\n",
       "normalized-losses        1.390865e+01\n",
       "num-of-cylinders_five   -5.343107e+03\n",
       "num-of-cylinders_four   -2.438165e+02\n",
       "num-of-cylinders_six    -2.050507e+03\n",
       "num-of-cylinders_three   9.978993e+03\n",
       "num-of-cylinders_twelve -4.912057e+03\n",
       "num-of-cylinders_two     4.640572e+03\n",
       "num-of-doors_two        -2.051633e+02\n",
       "peak-rpm                 3.461426e+00\n",
       "stroke                  -2.185699e+03\n",
       "symboling_-2            -4.145706e+02\n",
       "symboling_0             -3.231092e+02\n",
       "symboling_1              4.895986e+02\n",
       "symboling_2              5.247775e+02\n",
       "symboling_3             -8.103749e+02\n",
       "wheel-base               3.335294e+02\n",
       "width                    1.166360e+03\n",
       "\n",
       "[69 rows x 1 columns]"
      ]
     },
     "execution_count": 68,
     "metadata": {},
     "output_type": "execute_result"
    }
   ],
   "source": [
    "coeff_df = pd.DataFrame(lm.coef_,X.columns,columns=['Coefficient'])\n",
    "coeff_df"
   ]
  },
  {
   "cell_type": "code",
   "execution_count": 69,
   "metadata": {},
   "outputs": [
    {
     "name": "stderr",
     "output_type": "stream",
     "text": [
      "C:\\ProgramData\\Anaconda3\\lib\\site-packages\\scipy\\stats\\stats.py:1713: FutureWarning: Using a non-tuple sequence for multidimensional indexing is deprecated; use `arr[tuple(seq)]` instead of `arr[seq]`. In the future this will be interpreted as an array index, `arr[np.array(seq)]`, which will result either in an error or a different result.\n",
      "  return np.add.reduce(sorted[indexer] * weights, axis=axis) / sumval\n"
     ]
    },
    {
     "data": {
      "text/plain": [
       "<matplotlib.axes._subplots.AxesSubplot at 0x29932022048>"
      ]
     },
     "execution_count": 69,
     "metadata": {},
     "output_type": "execute_result"
    },
    {
     "data": {
      "image/png": "[encoded data removed]",
      "text/plain": [
       "<Figure size 432x288 with 1 Axes>"
      ]
     },
     "metadata": {},
     "output_type": "display_data"
    }
   ],
   "source": [
    "sns.distplot(y_test - y_pred)"
   ]
  },
  {
   "cell_type": "code",
   "execution_count": 87,
   "metadata": {},
   "outputs": [
    {
     "data": {
      "text/plain": [
       "<matplotlib.axes._subplots.AxesSubplot at 0x299334d4080>"
      ]
     },
     "execution_count": 87,
     "metadata": {},
     "output_type": "execute_result"
    },
    {
     "data": {
      "image/png": "[encoded data removed]",
      "text/plain": [
       "<Figure size 432x288 with 1 Axes>"
      ]
     },
     "metadata": {},
     "output_type": "display_data"
    }
   ],
   "source": [
    "sns.scatterplot(y_test, y_pred)"
   ]
  },
  {
   "cell_type": "code",
   "execution_count": 89,
   "metadata": {},
   "outputs": [],
   "source": [
    "from sklearn import metrics"
   ]
  },
  {
   "cell_type": "code",
   "execution_count": 90,
   "metadata": {},
   "outputs": [
    {
     "name": "stdout",
     "output_type": "stream",
     "text": [
      "MAE:  1975.1522628661878\n",
      "MSE:  7191726.027455762\n",
      "MSLE:  0.08514972961029024\n",
      "RMSE:  2681.739366056247\n"
     ]
    }
   ],
   "source": [
    "print('MAE: ', metrics.mean_absolute_error(y_test, y_pred))\n",
    "print('MSE: ', metrics.mean_squared_error(y_test, y_pred))\n",
    "print('MSLE: ', metrics.mean_squared_log_error(y_test, y_pred))\n",
    "print('RMSE: ', np.sqrt(metrics.mean_squared_error(y_test, y_pred)))"
   ]
  },
  {
   "cell_type": "markdown",
   "metadata": {},
   "source": [
    "### Stats model"
   ]
  },
  {
   "cell_type": "code",
   "execution_count": null,
   "metadata": {},
   "outputs": [],
   "source": [
    "import statsmodels.formula.api as smf\n",
    "lm = smf.ols(formula='Sales ~ TV', data=data).fit()\n",
    "lm.conf_int()"
   ]
  }
 ],
 "metadata": {
  "kernelspec": {
   "display_name": "Python 3",
   "language": "python",
   "name": "python3"
  },
  "language_info": {
   "codemirror_mode": {
    "name": "ipython",
    "version": 3
   },
   "file_extension": ".py",
   "mimetype": "text/x-python",
   "name": "python",
   "nbconvert_exporter": "python",
   "pygments_lexer": "ipython3",
   "version": "3.6.5"
  }
 },
 "nbformat": 4,
 "nbformat_minor": 2
}
