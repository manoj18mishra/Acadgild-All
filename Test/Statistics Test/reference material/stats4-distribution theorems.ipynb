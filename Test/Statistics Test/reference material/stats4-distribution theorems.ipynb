{
 "cells": [
  {
   "cell_type": "markdown",
   "metadata": {},
   "source": [
    "## Objective : \n",
    "\n",
    "* To learn what the value of the standard deviation of a data set tell about the data scatter from the mean as described by the Empirical Rule and Chebyshev’s Theorem.\n",
    "\n",
    "* To use the Empirical Rule and Chebyshev’s Theorem to draw conclusions about a data set."
   ]
  },
  {
   "cell_type": "markdown",
   "metadata": {},
   "source": [
    "### The Empirical Rule \n",
    "\n"
   ]
  },
  {
   "cell_type": "code",
   "execution_count": 2,
   "metadata": {},
   "outputs": [],
   "source": [
    "from scipy.stats import norm\n",
    "# for inline plots in jupyter\n",
    "%matplotlib inline\n",
    "# import matplotlib\n",
    "import matplotlib.pyplot as plt\n",
    "\n",
    "# import seaborn\n",
    "import seaborn as sns\n",
    "# settings for seaborn plotting style\n",
    "sns.set(color_codes=True)\n",
    "# settings for seaborn plot sizes\n",
    "sns.set(rc={'figure.figsize':(4.5,3)})"
   ]
  },
  {
   "cell_type": "markdown",
   "metadata": {},
   "source": [
    "\n",
    "\n",
    "We have a data of 100 men's height in inches. The assumption is that the heights are coming from a normal ditribution. The mean of the population i.e. x¯=70  and  standard deviation i.e. σ=1. "
   ]
  },
  {
   "cell_type": "code",
   "execution_count": 12,
   "metadata": {},
   "outputs": [
    {
     "name": "stderr",
     "output_type": "stream",
     "text": [
      "/home/abhay/.virtualenvs/Data_Scinece/local/lib/python3.5/site-packages/matplotlib/axes/_axes.py:6462: UserWarning: The 'normed' kwarg is deprecated, and has been replaced by the 'density' kwarg.\n",
      "  warnings.warn(\"The 'normed' kwarg is deprecated, and has been \"\n"
     ]
    },
    {
     "data": {
      "text/plain": [
       "[Text(0,0.5,'Frequency'), Text(0.5,0,'Normal')]"
      ]
     },
     "execution_count": 12,
     "metadata": {},
     "output_type": "execute_result"
    },
    {
     "data": {
      "image/png": "[encoded data removed]",
      "text/plain": [
       "<Figure size 432x288 with 1 Axes>"
      ]
     },
     "metadata": {},
     "output_type": "display_data"
    }
   ],
   "source": [
    "mean = 70\n",
    "std = 1\n",
    "# generate random numbersfrom N(0,1)\n",
    "data_normal = norm.rvs(size=100,loc=mean,scale=std)\n",
    "\n",
    "ax = sns.distplot(data_normal,\n",
    "                  bins=100,\n",
    "                  kde=True,\n",
    "                  color='skyblue',\n",
    "                  hist_kws={\"linewidth\": 15,'alpha':1})\n",
    "ax.set(xlabel='Normal', ylabel='Frequency')"
   ]
  },
  {
   "cell_type": "code",
   "execution_count": null,
   "metadata": {},
   "outputs": [],
   "source": []
  },
  {
   "cell_type": "markdown",
   "metadata": {},
   "source": [
    "If we go through the data and count the number of observations that are within one standard deviation of the mean."
   ]
  },
  {
   "cell_type": "code",
   "execution_count": 13,
   "metadata": {},
   "outputs": [
    {
     "name": "stdout",
     "output_type": "stream",
     "text": [
      "There are 67 of them \n"
     ]
    }
   ],
   "source": [
    "print (\"There are %d of them \" % len(list(filter(lambda x : True if (x>=(mean-std) and x<(mean+std)) else False,data_normal))))"
   ]
  },
  {
   "cell_type": "markdown",
   "metadata": {},
   "source": [
    "If we count the number of observations that are within two standard deviations of the mean"
   ]
  },
  {
   "cell_type": "code",
   "execution_count": 14,
   "metadata": {},
   "outputs": [
    {
     "name": "stdout",
     "output_type": "stream",
     "text": [
      "There are 93 of them \n"
     ]
    }
   ],
   "source": [
    "print (\"There are %d of them \" % len(list(filter(lambda x : True if (x>=(mean-2*std) and x<(mean+2*std)) else False,data_normal))))"
   ]
  },
  {
   "cell_type": "markdown",
   "metadata": {},
   "source": [
    "If we count the number of observations that are within three standard deviations of the mean"
   ]
  },
  {
   "cell_type": "code",
   "execution_count": 15,
   "metadata": {},
   "outputs": [
    {
     "name": "stdout",
     "output_type": "stream",
     "text": [
      "There are 100 of them \n"
     ]
    }
   ],
   "source": [
    "print (\"There are %d of them \" % len(list(filter(lambda x : True if (x>=(mean-3*std) and x<(mean+3*std)) else False,data_normal))))"
   ]
  },
  {
   "cell_type": "markdown",
   "metadata": {},
   "source": [
    "These tallies are not coincidences, but are in agreement with the following result that has been found to be widely applicable."
   ]
  },
  {
   "cell_type": "markdown",
   "metadata": {},
   "source": [
    "## Empirical Rule"
   ]
  },
  {
   "cell_type": "markdown",
   "metadata": {},
   "source": [
    "In statistics, the **68–95–99.7 rule**, also known as the **empirical rule**, is a shorthand used to remember the percentage of values that lie within a band around the mean in a normal distribution with a width of two, four and six standard deviations, respectively; __more accurately, 68.27%, 95.45% and 99.73% of the values lie within one, two and three standard deviations of the mean, respectively__. \n",
    "\n",
    "In mathematical notation, these facts can be expressed as follows, where X is an observation from a normally distributed random variable, μ is the mean of the distribution, and σ is its standard deviation:\n",
    "\n",
    "![emprical rule](../assets/empirical-formula.png)\n",
    "\n",
    "![](../assets/empirical_plot.jpg)"
   ]
  },
  {
   "cell_type": "markdown",
   "metadata": {},
   "source": [
    "### Assumptions \n",
    "    \n",
    "Two key points in regard to the Empirical Rule are that :\n",
    "    * the data distribution must be approximately bell-shaped \n",
    "    * the percentages are only approximately true. \n",
    "The Empirical Rule does not apply to data sets with severely asymmetric distributions, and the actual percentage of observations in any of the intervals specified by the rule could be either greater or less than those given in the rule."
   ]
  },
  {
   "cell_type": "markdown",
   "metadata": {},
   "source": [
    "### Chebyshev’s Theorem / Chebyshev's inequality"
   ]
  },
  {
   "cell_type": "markdown",
   "metadata": {},
   "source": [
    "In probability theory, Chebyshev's inequality guarantees that, for a wide class of probability distributions, \n",
    "__no more than a certain fraction of values can be more than a certain distance from the mean. __\n",
    "\n",
    "__Specifically, no more than 1/k^2 of the distribution's values can be more than k standard deviations away from the mean__ (or equivalently, at least 1−1/k^2 of the distribution's values are within k standard deviations of the mean). \n",
    "\n",
    "The rule is often called Chebyshev's theorem, about the range of standard deviations around the mean, in statistics. \n",
    "\n",
    "The inequality has great utility because it can be applied to any probability distribution in which the mean and variance are defined. \n",
    "\n",
    "In practical usage, in contrast to the 68–95–99.7 or Empirical rule, which applies to normal distributions, Chebyshev's inequality is weaker, stating that a minimum of just 75% of values must lie within two standard deviations of the mean and 89% within three standard deviations.\n",
    "\n",
    "The term Chebyshev's inequality also refer to Markov's inequality.\n",
    "\n",
    "![](../assets/chebychebtheorem.jpg)"
   ]
  },
  {
   "cell_type": "code",
   "execution_count": 19,
   "metadata": {},
   "outputs": [],
   "source": [
    " # import uniform distribution\n",
    "from scipy.stats import uniform\n",
    "\n",
    "# random numbers from uniform distribution\n",
    "# Generate 10 numbers from 0 to 10\n",
    "n = 100\n",
    "mean = 50\n",
    "std = 1.2\n",
    "data_uniform = norm.rvs(size=n, loc = mean, scale=std)   "
   ]
  },
  {
   "cell_type": "code",
   "execution_count": 20,
   "metadata": {},
   "outputs": [
    {
     "name": "stderr",
     "output_type": "stream",
     "text": [
      "/home/abhay/.virtualenvs/Data_Scinece/local/lib/python3.5/site-packages/matplotlib/axes/_axes.py:6462: UserWarning: The 'normed' kwarg is deprecated, and has been replaced by the 'density' kwarg.\n",
      "  warnings.warn(\"The 'normed' kwarg is deprecated, and has been \"\n"
     ]
    },
    {
     "data": {
      "text/plain": [
       "[Text(0,0.5,'Frequency'), Text(0.5,0,'Uniform ')]"
      ]
     },
     "execution_count": 20,
     "metadata": {},
     "output_type": "execute_result"
    },
    {
     "data": {
      "image/png": "[encoded data removed]",
      "text/plain": [
       "<Figure size 432x288 with 1 Axes>"
      ]
     },
     "metadata": {},
     "output_type": "display_data"
    }
   ],
   "source": [
    "ax = sns.distplot(data_uniform,\n",
    "                  bins=100,\n",
    "                  kde=False,\n",
    "                  color='skyblue',\n",
    "                  hist_kws={\"linewidth\": 15,'alpha':1})\n",
    "ax.set(xlabel='Uniform ', ylabel='Frequency')"
   ]
  },
  {
   "cell_type": "code",
   "execution_count": 21,
   "metadata": {},
   "outputs": [
    {
     "name": "stdout",
     "output_type": "stream",
     "text": [
      "There are 97 of them \n"
     ]
    }
   ],
   "source": [
    "print (\"There are %d of them \" % len(list(filter(lambda x : True if (x>=(mean-2*std) and x<(mean+2*std)) else False,data_uniform))))"
   ]
  },
  {
   "cell_type": "code",
   "execution_count": 22,
   "metadata": {},
   "outputs": [
    {
     "name": "stdout",
     "output_type": "stream",
     "text": [
      "There are 99 of them \n"
     ]
    }
   ],
   "source": [
    "print (\"There are %d of them \" % len(list(filter(lambda x : True if (x>=(mean-3*std) and x<(mean+3*std)) else False,data_uniform))))"
   ]
  },
  {
   "cell_type": "code",
   "execution_count": 23,
   "metadata": {},
   "outputs": [
    {
     "data": {
      "text/plain": [
       "array([48.80151903, 48.13975038, 49.32561699, 49.21919277, 51.45512069,\n",
       "       48.50144656, 51.53104573, 49.44923997, 50.46186878, 50.54265305,\n",
       "       50.34627646, 51.56065593, 49.44619323, 46.05670928, 49.81107928,\n",
       "       50.86812157, 49.63857318, 51.47023504, 49.84364474, 51.71128433,\n",
       "       50.04128249, 51.48822939, 50.06418178, 48.99029494, 52.19868301,\n",
       "       48.01203714, 51.36968274, 50.15207988, 50.67775755, 49.41003696,\n",
       "       49.54360746, 50.08166166, 48.86185758, 51.37618065, 50.57729046,\n",
       "       51.09673213, 49.56867222, 50.03815053, 47.66490296, 47.6519006 ,\n",
       "       49.74947901, 49.98653912, 51.55622491, 49.73012776, 49.26587627,\n",
       "       48.71862621, 49.84217594, 49.62214505, 49.13520493, 51.92833768,\n",
       "       49.82006615, 49.30321425, 50.45574552, 48.03235868, 52.22175906,\n",
       "       49.69184411, 50.97089604, 50.11344225, 50.56020869, 50.81116769,\n",
       "       48.84367373, 49.97931828, 50.15738094, 48.8211325 , 49.92788001,\n",
       "       50.43045647, 50.28785401, 50.89314153, 49.35866189, 49.54267333,\n",
       "       49.82489729, 51.14435211, 49.34552308, 50.35392744, 48.76871433,\n",
       "       49.2835148 , 49.31169065, 52.60177193, 52.14562477, 49.76169478,\n",
       "       47.29450039, 50.40071248, 51.13564255, 49.84566856, 48.95128902,\n",
       "       49.18990925, 49.43639905, 47.655222  , 50.26517639, 47.87432535,\n",
       "       49.85721508, 47.6763738 , 49.87447022, 51.08293529, 50.76847135,\n",
       "       50.60027933, 49.16050702, 51.31118095, 48.56440458, 51.16864666])"
      ]
     },
     "execution_count": 23,
     "metadata": {},
     "output_type": "execute_result"
    }
   ],
   "source": [
    "data_uniform"
   ]
  },
  {
   "cell_type": "code",
   "execution_count": 26,
   "metadata": {},
   "outputs": [],
   "source": [
    "import numpy as np\n",
    "# (51.55622491 - mean(data_uniform))/np\n"
   ]
  },
  {
   "cell_type": "code",
   "execution_count": 33,
   "metadata": {},
   "outputs": [
    {
     "data": {
      "text/plain": [
       "1.3700093440619807"
      ]
     },
     "execution_count": 33,
     "metadata": {},
     "output_type": "execute_result"
    }
   ],
   "source": [
    "# (51.55622491 - mean(data_uniform))\n",
    "(51.55622491 - np.mean(data_uniform))/np.std(data_uniform)"
   ]
  },
  {
   "cell_type": "code",
   "execution_count": null,
   "metadata": {},
   "outputs": [],
   "source": []
  }
 ],
 "metadata": {
  "kernelspec": {
   "display_name": "Python 3",
   "language": "python",
   "name": "python3"
  },
  "language_info": {
   "codemirror_mode": {
    "name": "ipython",
    "version": 3
   },
   "file_extension": ".py",
   "mimetype": "text/x-python",
   "name": "python",
   "nbconvert_exporter": "python",
   "pygments_lexer": "ipython3",
   "version": "3.7.1"
  }
 },
 "nbformat": 4,
 "nbformat_minor": 2
}
